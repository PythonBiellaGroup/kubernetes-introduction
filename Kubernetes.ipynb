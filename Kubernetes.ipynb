{
 "cells": [
  {
   "cell_type": "markdown",
   "id": "205016ae",
   "metadata": {
    "slideshow": {
     "slide_type": "slide"
    }
   },
   "source": [
    "# Kubernetes\n",
    "## What I learned in the last year."
   ]
  },
  {
   "cell_type": "markdown",
   "id": "fdaf2efd",
   "metadata": {
    "slideshow": {
     "slide_type": "slide"
    }
   },
   "source": [
    "# What is Kubernetes?"
   ]
  },
  {
   "cell_type": "markdown",
   "id": "9aef7d0a",
   "metadata": {
    "slideshow": {
     "slide_type": "fragment"
    }
   },
   "source": [
    "## Linux Day 2022\n",
    "Lorenzo Soligo [GitOps 101 - da dove veniamo, dove stiamo andando](https://github.com/unixMiB/events/blob/master/Linux%20Day%20Milano%202022/GitOps%20101%20-%20da%20dove%20veniamo%2C%20dove%20stiamo%20andando%20-%20Lorenzo%20Soligo%20-%20Giant%20Swarm.pdf)"
   ]
  },
  {
   "cell_type": "markdown",
   "id": "8e3ee7fb",
   "metadata": {
    "slideshow": {
     "slide_type": "fragment"
    }
   },
   "source": [
    "Kubernetes is a ([Game](https://fabiensanglard.net/quakeSource/)) Loop!"
   ]
  },
  {
   "cell_type": "markdown",
   "id": "bb448afd",
   "metadata": {
    "slideshow": {
     "slide_type": "slide"
    }
   },
   "source": [
    "# Are you nuts?"
   ]
  },
  {
   "cell_type": "markdown",
   "id": "e7587e9e",
   "metadata": {
    "slideshow": {
     "slide_type": "fragment"
    }
   },
   "source": [
    "## Let me write it, in Python of course"
   ]
  },
  {
   "cell_type": "markdown",
   "id": "703d5466",
   "metadata": {
    "slideshow": {
     "slide_type": "slide"
    }
   },
   "source": [
    "```python\n",
    "while True:\n",
    "    current_state = get_current_state()\n",
    "    desidered_state = get_desidered_state()\n",
    "    reconcile(current_state, desidered_state)\n",
    "```"
   ]
  },
  {
   "cell_type": "markdown",
   "id": "5b9e881f",
   "metadata": {
    "slideshow": {
     "slide_type": "slide"
    }
   },
   "source": [
    "OK, this is a super high level description to the thing but can help to set the context about what Kubernetes is"
   ]
  },
  {
   "cell_type": "markdown",
   "id": "ff54d327",
   "metadata": {
    "slideshow": {
     "slide_type": "fragment"
    }
   },
   "source": [
    "Somebody calls the simple loop above a reconciliation loop, a sort of pattern."
   ]
  },
  {
   "cell_type": "markdown",
   "id": "dec987fc",
   "metadata": {
    "slideshow": {
     "slide_type": "fragment"
    }
   },
   "source": [
    "This enables you to be \"declarative\", just state what you need from the system, not *how* reach a \"desidered\" condition."
   ]
  },
  {
   "cell_type": "markdown",
   "id": "3848986f",
   "metadata": {
    "slideshow": {
     "slide_type": "fragment"
    }
   },
   "source": [
    "And enable Kubernetes to be \"Intent based\": match the resources with users \"desire\"."
   ]
  },
  {
   "cell_type": "markdown",
   "id": "d522e756",
   "metadata": {
    "slideshow": {
     "slide_type": "slide"
    }
   },
   "source": [
    "# Why Kubernetes happened?"
   ]
  },
  {
   "cell_type": "markdown",
   "id": "ccede758",
   "metadata": {
    "slideshow": {
     "slide_type": "fragment"
    }
   },
   "source": [
    "## The official history"
   ]
  },
  {
   "cell_type": "markdown",
   "id": "51d66df7",
   "metadata": {
    "slideshow": {
     "slide_type": "fragment"
    }
   },
   "source": [
    "* The Kubernetes Documentary, [part 1](https://www.youtube.com/watch?v=BE77h7dmoQU&t=4s) and [part 2](https://www.youtube.com/watch?v=318elIq37PE)"
   ]
  },
  {
   "cell_type": "markdown",
   "id": "71eb612f",
   "metadata": {
    "slideshow": {
     "slide_type": "slide"
    }
   },
   "source": [
    "# The path to Kubernetes, what I think?"
   ]
  },
  {
   "cell_type": "markdown",
   "id": "15a50cd8",
   "metadata": {
    "slideshow": {
     "slide_type": "fragment"
    }
   },
   "source": [
    "New ideas is Software Engineering and Information Technology."
   ]
  },
  {
   "cell_type": "markdown",
   "id": "32e1ff87",
   "metadata": {
    "slideshow": {
     "slide_type": "fragment"
    }
   },
   "source": [
    "New ways of working."
   ]
  },
  {
   "cell_type": "markdown",
   "id": "6616faa5",
   "metadata": {
    "slideshow": {
     "slide_type": "fragment"
    }
   },
   "source": [
    "Internet, hardware disaggregation, virtualization."
   ]
  },
  {
   "cell_type": "markdown",
   "id": "469b96e5",
   "metadata": {
    "slideshow": {
     "slide_type": "slide"
    }
   },
   "source": [
    "# Software Engineering"
   ]
  },
  {
   "cell_type": "markdown",
   "id": "7a3b7508",
   "metadata": {
    "slideshow": {
     "slide_type": "subslide"
    }
   },
   "source": [
    "## Clean Architecture"
   ]
  },
  {
   "cell_type": "markdown",
   "id": "81fb2445",
   "metadata": {
    "slideshow": {
     "slide_type": "fragment"
    }
   },
   "source": [
    "Decouple and isolate business logic from \"infrastructural\" stuff."
   ]
  },
  {
   "cell_type": "markdown",
   "id": "ae60428f",
   "metadata": {
    "slideshow": {
     "slide_type": "fragment"
    }
   },
   "source": [
    "[Entities, Use cases, Repositories](https://blog.cleancoder.com/uncle-bob/2012/08/13/the-clean-architecture.html)."
   ]
  },
  {
   "cell_type": "markdown",
   "id": "653f7413",
   "metadata": {
    "slideshow": {
     "slide_type": "fragment"
    }
   },
   "source": [
    "Use of \"Dependency Inversion\" for enabling pluggability."
   ]
  },
  {
   "cell_type": "markdown",
   "id": "2732e161",
   "metadata": {
    "slideshow": {
     "slide_type": "fragment"
    }
   },
   "source": [
    "[Synergy with TDD](https://www.amazon.com/Growing-Object-Oriented-Software-Guided-Tests/dp/0321503627)."
   ]
  },
  {
   "cell_type": "markdown",
   "id": "650a016e",
   "metadata": {
    "slideshow": {
     "slide_type": "subslide"
    }
   },
   "source": [
    "## Domain Driven Design"
   ]
  },
  {
   "cell_type": "markdown",
   "id": "6ea33b51",
   "metadata": {
    "slideshow": {
     "slide_type": "fragment"
    }
   },
   "source": [
    "A thing can have multiple contexts ([bounded contexts](https://martinfowler.com/bliki/BoundedContext.html)), or multiple point of view."
   ]
  },
  {
   "cell_type": "markdown",
   "id": "9b7ce596",
   "metadata": {
    "slideshow": {
     "slide_type": "fragment"
    }
   },
   "source": [
    "For example a \"Customer\" in a CRM can have some attributes relevant for the \"Sales\" department, but not so much for \"Support\" department."
   ]
  },
  {
   "cell_type": "markdown",
   "id": "9a89a15b",
   "metadata": {
    "slideshow": {
     "slide_type": "fragment"
    }
   },
   "source": [
    "A complex application can have many business logic."
   ]
  },
  {
   "cell_type": "markdown",
   "id": "a84580b7",
   "metadata": {
    "slideshow": {
     "slide_type": "subslide"
    }
   },
   "source": [
    "## Microservices"
   ]
  },
  {
   "cell_type": "markdown",
   "id": "ca06381d",
   "metadata": {
    "slideshow": {
     "slide_type": "fragment"
    }
   },
   "source": [
    "Break the monolith to enable horizontal scaling."
   ]
  },
  {
   "cell_type": "markdown",
   "id": "044e4e56",
   "metadata": {
    "slideshow": {
     "slide_type": "fragment"
    }
   },
   "source": [
    "\"Sales\" and \"Support\" can be separated and talk via an interface."
   ]
  },
  {
   "cell_type": "markdown",
   "id": "29a8edca",
   "metadata": {
    "slideshow": {
     "slide_type": "fragment"
    }
   },
   "source": [
    "\"Sales\" and \"Support\" can be developed by different teams."
   ]
  },
  {
   "cell_type": "markdown",
   "id": "b64ed2e3",
   "metadata": {
    "slideshow": {
     "slide_type": "fragment"
    }
   },
   "source": [
    "The application deployment is part of the application and should be easy. [The Twelve-Factor App](https://12factor.net/)."
   ]
  },
  {
   "cell_type": "markdown",
   "id": "a468daa8",
   "metadata": {
    "slideshow": {
     "slide_type": "subslide"
    }
   },
   "source": [
    "## API centricity"
   ]
  },
  {
   "cell_type": "markdown",
   "id": "3cfafbad",
   "metadata": {
    "slideshow": {
     "slide_type": "fragment"
    }
   },
   "source": [
    "Migration from in memory interfaces to Web / REST Application Programming Interface."
   ]
  },
  {
   "cell_type": "markdown",
   "id": "94f2c8ab",
   "metadata": {
    "slideshow": {
     "slide_type": "fragment"
    }
   },
   "source": [
    "Concept of \"Resource\"."
   ]
  },
  {
   "cell_type": "markdown",
   "id": "1c0f38af",
   "metadata": {
    "slideshow": {
     "slide_type": "fragment"
    }
   },
   "source": [
    "Concept of \"Single Source of Truth\"."
   ]
  },
  {
   "cell_type": "markdown",
   "id": "060978ff",
   "metadata": {
    "slideshow": {
     "slide_type": "slide"
    }
   },
   "source": [
    "# New ways of working"
   ]
  },
  {
   "cell_type": "markdown",
   "id": "fcac44b8",
   "metadata": {
    "slideshow": {
     "slide_type": "subslide"
    }
   },
   "source": [
    "## Agile"
   ]
  },
  {
   "cell_type": "markdown",
   "id": "067c8115",
   "metadata": {
    "slideshow": {
     "slide_type": "fragment"
    }
   },
   "source": [
    "Too much to say. I'll stop here. Just a mention for [Team Topologies](https://teamtopologies.com/) (2019)"
   ]
  },
  {
   "cell_type": "markdown",
   "id": "a51333ce",
   "metadata": {
    "slideshow": {
     "slide_type": "subslide"
    }
   },
   "source": [
    "## Devops Movement"
   ]
  },
  {
   "cell_type": "markdown",
   "id": "39a0f939",
   "metadata": {
    "slideshow": {
     "slide_type": "fragment"
    }
   },
   "source": [
    "Infrastructure as code."
   ]
  },
  {
   "cell_type": "markdown",
   "id": "4cdbebf4",
   "metadata": {
    "slideshow": {
     "slide_type": "fragment"
    }
   },
   "source": [
    "Automation."
   ]
  },
  {
   "cell_type": "markdown",
   "id": "e5d3fb5e",
   "metadata": {
    "slideshow": {
     "slide_type": "fragment"
    }
   },
   "source": [
    "[Infrastructure as a service (IaaS), Platform as a Service (PaaS), Software as a Service (SaaS)](https://www.redhat.com/en/topics/cloud-computing/iaas-vs-paas-vs-saas)"
   ]
  },
  {
   "cell_type": "markdown",
   "id": "2bbb2465",
   "metadata": {
    "slideshow": {
     "slide_type": "fragment"
    }
   },
   "source": [
    "Cloud Computing."
   ]
  },
  {
   "cell_type": "markdown",
   "id": "bbce2379",
   "metadata": {
    "slideshow": {
     "slide_type": "subslide"
    }
   },
   "source": [
    "## Site Reliability Engineering"
   ]
  },
  {
   "cell_type": "markdown",
   "id": "acc892b0",
   "metadata": {
    "slideshow": {
     "slide_type": "fragment"
    }
   },
   "source": [
    "Distributed Systems is hard. Many things can go wrong, see [Designing Data-Intensive Applications](https://www.oreilly.com/library/view/designing-data-intensive-applications/9781491903063/) chapter 8."
   ]
  },
  {
   "cell_type": "markdown",
   "id": "306888cb",
   "metadata": {
    "slideshow": {
     "slide_type": "fragment"
    }
   },
   "source": [
    "Distributed System are built upon cheap but unreliable components. "
   ]
  },
  {
   "cell_type": "markdown",
   "id": "44a23e71",
   "metadata": {
    "slideshow": {
     "slide_type": "fragment"
    }
   },
   "source": [
    "Write a platform where lessons learned while implementing distributed system become code that can help to operate and monitor a system."
   ]
  },
  {
   "cell_type": "markdown",
   "id": "06b58dae",
   "metadata": {
    "slideshow": {
     "slide_type": "fragment"
    }
   },
   "source": [
    "Possibility to plug-in or extend the resources under control."
   ]
  },
  {
   "cell_type": "markdown",
   "id": "58439aab",
   "metadata": {
    "slideshow": {
     "slide_type": "slide"
    }
   },
   "source": [
    "# What's under the hood?"
   ]
  },
  {
   "cell_type": "markdown",
   "id": "6b14ecf4",
   "metadata": {
    "slideshow": {
     "slide_type": "fragment"
    }
   },
   "source": [
    "What is the techie stuff that made Kubernetes even possible?"
   ]
  },
  {
   "cell_type": "markdown",
   "id": "2960226d",
   "metadata": {
    "slideshow": {
     "slide_type": "slide"
    }
   },
   "source": [
    "# It started with..."
   ]
  },
  {
   "cell_type": "markdown",
   "id": "50296622",
   "metadata": {
    "slideshow": {
     "slide_type": "fragment"
    }
   },
   "source": [
    "## Virtual machines"
   ]
  },
  {
   "cell_type": "markdown",
   "id": "9b781aa1",
   "metadata": {
    "slideshow": {
     "slide_type": "fragment"
    }
   },
   "source": [
    "* Hardware disaggregation\n",
    "* Slice and dice servers\n",
    "* HW becames software"
   ]
  },
  {
   "cell_type": "markdown",
   "id": "a920b8e4",
   "metadata": {
    "slideshow": {
     "slide_type": "slide"
    }
   },
   "source": [
    "# Docker"
   ]
  },
  {
   "cell_type": "markdown",
   "id": "4963186a",
   "metadata": {
    "slideshow": {
     "slide_type": "fragment"
    }
   },
   "source": [
    "## Containers"
   ]
  },
  {
   "cell_type": "markdown",
   "id": "b15cd229",
   "metadata": {
    "slideshow": {
     "slide_type": "fragment"
    }
   },
   "source": [
    "Operative systems capabilities to isolate HW resources."
   ]
  },
  {
   "cell_type": "markdown",
   "id": "e292d464",
   "metadata": {
    "slideshow": {
     "slide_type": "slide"
    }
   },
   "source": [
    "# Are containers Linux?"
   ]
  },
  {
   "cell_type": "markdown",
   "id": "5b23aa46",
   "metadata": {
    "slideshow": {
     "slide_type": "fragment"
    }
   },
   "source": [
    "## Almost"
   ]
  },
  {
   "cell_type": "markdown",
   "id": "69001b41",
   "metadata": {
    "slideshow": {
     "slide_type": "fragment"
    }
   },
   "source": [
    "[Just debunk them and look under the hood!](https://linuxera.org/containers-under-the-hood/)"
   ]
  },
  {
   "cell_type": "markdown",
   "id": "19638748",
   "metadata": {
    "slideshow": {
     "slide_type": "slide"
    }
   },
   "source": [
    "## Linux Kernel stuff that enables containerization."
   ]
  },
  {
   "cell_type": "markdown",
   "id": "bbc7c3d8",
   "metadata": {
    "slideshow": {
     "slide_type": "fragment"
    }
   },
   "source": [
    "* Rootfs - Containers's file system."
   ]
  },
  {
   "cell_type": "markdown",
   "id": "03a9ca3a",
   "metadata": {
    "slideshow": {
     "slide_type": "fragment"
    }
   },
   "source": [
    "* chroot - change a root directory of a process, first step for isolation."
   ]
  },
  {
   "cell_type": "markdown",
   "id": "bc50cb5b",
   "metadata": {
    "slideshow": {
     "slide_type": "fragment"
    }
   },
   "source": [
    "* Linux namespace, or to be honest, namespaces!"
   ]
  },
  {
   "cell_type": "markdown",
   "id": "d7ddc531",
   "metadata": {
    "slideshow": {
     "slide_type": "slide"
    }
   },
   "source": [
    "# Once upon a time under /proc/PID_N/ns in the [Unshare](https://man7.org/linux/man-pages/man2/unshare.2.html) Land..."
   ]
  },
  {
   "cell_type": "markdown",
   "id": "6eb106be",
   "metadata": {
    "slideshow": {
     "slide_type": "subslide"
    }
   },
   "source": [
    "|Namespace | Isolates|\n",
    "|----------|---------|\n",
    "|Cgroup | Cgroup root directory|\n",
    "|IPC | System V IPC, POSIX message queues|\n",
    "|Network | Network devices, stacks, prots, etc.\n",
    "|Mount | Mount points|\n",
    "|PID |Process IDs|\n",
    "|Time | Boot and monotonic clocks|\n",
    "|User | User and Group IDs|\n",
    "|UTS | Hostname and NIS domain name|"
   ]
  },
  {
   "cell_type": "markdown",
   "id": "b96ee082",
   "metadata": {
    "slideshow": {
     "slide_type": "slide"
    }
   },
   "source": [
    "Docker automated all this and added a specific way to build images and handle process communication, but we can build our \"containers\" just with Linux."
   ]
  },
  {
   "cell_type": "markdown",
   "id": "cdaf2167",
   "metadata": {
    "slideshow": {
     "slide_type": "slide"
    }
   },
   "source": [
    "# Cross fingers..."
   ]
  },
  {
   "cell_type": "markdown",
   "id": "c8586bed",
   "metadata": {
    "slideshow": {
     "slide_type": "fragment"
    }
   },
   "source": [
    "## Demotime!"
   ]
  },
  {
   "cell_type": "markdown",
   "id": "971a0073",
   "metadata": {
    "slideshow": {
     "slide_type": "slide"
    }
   },
   "source": [
    "TBC Network Name spaces and Docker0 bridge."
   ]
  }
 ],
 "metadata": {
  "celltoolbar": "Slideshow",
  "kernelspec": {
   "display_name": "Python 3 (ipykernel)",
   "language": "python",
   "name": "python3"
  },
  "language_info": {
   "codemirror_mode": {
    "name": "ipython",
    "version": 3
   },
   "file_extension": ".py",
   "mimetype": "text/x-python",
   "name": "python",
   "nbconvert_exporter": "python",
   "pygments_lexer": "ipython3",
   "version": "3.8.12"
  },
  "rise": {
   "theme": "sky"
  }
 },
 "nbformat": 4,
 "nbformat_minor": 5
}
