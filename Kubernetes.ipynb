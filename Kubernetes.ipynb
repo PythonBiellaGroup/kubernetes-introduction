{
 "cells": [
  {
   "cell_type": "markdown",
   "id": "196d72c3",
   "metadata": {
    "slideshow": {
     "slide_type": "slide"
    }
   },
   "source": [
    "# Who am I?\n",
    "## Cesare Placanica"
   ]
  },
  {
   "cell_type": "markdown",
   "id": "e0f0188a",
   "metadata": {
    "slideshow": {
     "slide_type": "fragment"
    }
   },
   "source": [
    "## That was easy... :-)"
   ]
  },
  {
   "cell_type": "markdown",
   "id": "f4aa1f90",
   "metadata": {
    "slideshow": {
     "slide_type": "subslide"
    }
   },
   "source": [
    "* Telco engineer @ Red Hat\n",
    "* Always worked in Telecommunication industry\n",
    "  * Which is good since I dig big labs a lot!\n",
    "* Linux and Python addicted since ever.\n",
    "* Eventually, I'm trying to be an event organizer for PyMI\n",
    "  * Pythonistas interviewer!"
   ]
  },
  {
   "cell_type": "markdown",
   "id": "9e2be79b",
   "metadata": {
    "slideshow": {
     "slide_type": "slide"
    }
   },
   "source": [
    "# Agenda"
   ]
  },
  {
   "cell_type": "markdown",
   "id": "5785a264",
   "metadata": {
    "slideshow": {
     "slide_type": "fragment"
    }
   },
   "source": [
    "## What we will do"
   ]
  },
  {
   "cell_type": "markdown",
   "id": "63cbea57",
   "metadata": {
    "slideshow": {
     "slide_type": "slide"
    }
   },
   "source": [
    "* Debunk Container (and Docker)\n",
    "* Why Kubernetes? What is his purpose?\n",
    "* Hopefully, install it and start play with it."
   ]
  },
  {
   "cell_type": "markdown",
   "id": "017ad50f",
   "metadata": {
    "slideshow": {
     "slide_type": "slide"
    }
   },
   "source": [
    "# Poll Time!"
   ]
  },
  {
   "cell_type": "markdown",
   "id": "e1db7274",
   "metadata": {
    "slideshow": {
     "slide_type": "subslide"
    }
   },
   "source": [
    "## The Poll is [here](https://www.menti.com/alnetwn581sy) TBD redo it!"
   ]
  },
  {
   "cell_type": "markdown",
   "id": "205016ae",
   "metadata": {
    "slideshow": {
     "slide_type": "slide"
    }
   },
   "source": [
    "# Kubernetes\n",
    "## What I learned in the last year."
   ]
  },
  {
   "cell_type": "markdown",
   "id": "fdaf2efd",
   "metadata": {
    "slideshow": {
     "slide_type": "slide"
    }
   },
   "source": [
    "# What Kubernetes is?"
   ]
  },
  {
   "cell_type": "markdown",
   "id": "9aef7d0a",
   "metadata": {
    "slideshow": {
     "slide_type": "fragment"
    }
   },
   "source": [
    "## Linux Day 2022\n",
    "Lorenzo Soligo [GitOps 101 - da dove veniamo, dove stiamo andando](https://github.com/unixMiB/events/blob/master/Linux%20Day%20Milano%202022/GitOps%20101%20-%20da%20dove%20veniamo%2C%20dove%20stiamo%20andando%20-%20Lorenzo%20Soligo%20-%20Giant%20Swarm.pdf)"
   ]
  },
  {
   "cell_type": "markdown",
   "id": "8e3ee7fb",
   "metadata": {
    "slideshow": {
     "slide_type": "fragment"
    }
   },
   "source": [
    "Kubernetes is a ([Game](https://fabiensanglard.net/quakeSource/)) Loop!"
   ]
  },
  {
   "cell_type": "markdown",
   "id": "bb448afd",
   "metadata": {
    "slideshow": {
     "slide_type": "slide"
    }
   },
   "source": [
    "# Are you nuts?"
   ]
  },
  {
   "cell_type": "markdown",
   "id": "e7587e9e",
   "metadata": {
    "slideshow": {
     "slide_type": "fragment"
    }
   },
   "source": [
    "## Let me write it, in Python of course"
   ]
  },
  {
   "cell_type": "markdown",
   "id": "703d5466",
   "metadata": {
    "slideshow": {
     "slide_type": "slide"
    }
   },
   "source": [
    "```python\n",
    "while True:\n",
    "    current_state = get_current_state()\n",
    "    desidered_state = get_desidered_state()\n",
    "    reconcile(current_state, desidered_state)\n",
    "```"
   ]
  },
  {
   "cell_type": "markdown",
   "id": "5b9e881f",
   "metadata": {
    "slideshow": {
     "slide_type": "slide"
    }
   },
   "source": [
    "OK, this is a super high level description to the thing but can help to set the context about what Kubernetes is"
   ]
  },
  {
   "cell_type": "markdown",
   "id": "ff54d327",
   "metadata": {
    "slideshow": {
     "slide_type": "fragment"
    }
   },
   "source": [
    "Somebody calls the simple loop above a reconciliation loop, a sort of pattern."
   ]
  },
  {
   "cell_type": "markdown",
   "id": "dec987fc",
   "metadata": {
    "slideshow": {
     "slide_type": "fragment"
    }
   },
   "source": [
    "This enables you to be \"declarative\", just state what you need from the system, not *how* reach a \"desidered\" condition."
   ]
  },
  {
   "cell_type": "markdown",
   "id": "3848986f",
   "metadata": {
    "slideshow": {
     "slide_type": "fragment"
    }
   },
   "source": [
    "And enable Kubernetes to be \"Intent based\": match the resources with users \"desire\"."
   ]
  },
  {
   "cell_type": "markdown",
   "id": "d522e756",
   "metadata": {
    "slideshow": {
     "slide_type": "slide"
    }
   },
   "source": [
    "# Why Kubernetes happened?"
   ]
  },
  {
   "cell_type": "markdown",
   "id": "ccede758",
   "metadata": {
    "slideshow": {
     "slide_type": "fragment"
    }
   },
   "source": [
    "## The official history"
   ]
  },
  {
   "cell_type": "markdown",
   "id": "51d66df7",
   "metadata": {
    "slideshow": {
     "slide_type": "fragment"
    }
   },
   "source": [
    "* The Kubernetes Documentary, [part 1](https://www.youtube.com/watch?v=BE77h7dmoQU&t=4s) and [part 2](https://www.youtube.com/watch?v=318elIq37PE)"
   ]
  },
  {
   "cell_type": "markdown",
   "id": "71eb612f",
   "metadata": {
    "slideshow": {
     "slide_type": "slide"
    }
   },
   "source": [
    "# The path to Kubernetes, what I think?"
   ]
  },
  {
   "cell_type": "markdown",
   "id": "15a50cd8",
   "metadata": {
    "slideshow": {
     "slide_type": "fragment"
    }
   },
   "source": [
    "New ideas is Software Engineering and Information Technology."
   ]
  },
  {
   "cell_type": "markdown",
   "id": "32e1ff87",
   "metadata": {
    "slideshow": {
     "slide_type": "fragment"
    }
   },
   "source": [
    "New ways of working."
   ]
  },
  {
   "cell_type": "markdown",
   "id": "6616faa5",
   "metadata": {
    "slideshow": {
     "slide_type": "fragment"
    }
   },
   "source": [
    "Internet, hardware disaggregation, virtualization."
   ]
  },
  {
   "cell_type": "markdown",
   "id": "469b96e5",
   "metadata": {
    "slideshow": {
     "slide_type": "slide"
    }
   },
   "source": [
    "# Software Engineering"
   ]
  },
  {
   "cell_type": "markdown",
   "id": "7a3b7508",
   "metadata": {
    "slideshow": {
     "slide_type": "subslide"
    }
   },
   "source": [
    "## Clean Architecture"
   ]
  },
  {
   "cell_type": "markdown",
   "id": "81fb2445",
   "metadata": {
    "slideshow": {
     "slide_type": "fragment"
    }
   },
   "source": [
    "Decouple and isolate business logic from \"infrastructural\" stuff."
   ]
  },
  {
   "cell_type": "markdown",
   "id": "ae60428f",
   "metadata": {
    "slideshow": {
     "slide_type": "fragment"
    }
   },
   "source": [
    "[Entities, Use cases, Repositories](https://blog.cleancoder.com/uncle-bob/2012/08/13/the-clean-architecture.html)."
   ]
  },
  {
   "cell_type": "markdown",
   "id": "653f7413",
   "metadata": {
    "slideshow": {
     "slide_type": "fragment"
    }
   },
   "source": [
    "Use of \"Dependency Inversion\" for enabling pluggability."
   ]
  },
  {
   "cell_type": "markdown",
   "id": "2732e161",
   "metadata": {
    "slideshow": {
     "slide_type": "fragment"
    }
   },
   "source": [
    "[Synergy with TDD](https://www.amazon.com/Growing-Object-Oriented-Software-Guided-Tests/dp/0321503627)."
   ]
  },
  {
   "cell_type": "markdown",
   "id": "650a016e",
   "metadata": {
    "slideshow": {
     "slide_type": "subslide"
    }
   },
   "source": [
    "## Domain Driven Design"
   ]
  },
  {
   "cell_type": "markdown",
   "id": "6ea33b51",
   "metadata": {
    "slideshow": {
     "slide_type": "fragment"
    }
   },
   "source": [
    "A thing can have multiple contexts ([bounded contexts](https://martinfowler.com/bliki/BoundedContext.html)), or multiple point of view."
   ]
  },
  {
   "cell_type": "markdown",
   "id": "9b7ce596",
   "metadata": {
    "slideshow": {
     "slide_type": "fragment"
    }
   },
   "source": [
    "For example a \"Customer\" in a CRM can have some attributes relevant for the \"Sales\" department, but not so much for \"Support\" department."
   ]
  },
  {
   "cell_type": "markdown",
   "id": "9a89a15b",
   "metadata": {
    "slideshow": {
     "slide_type": "fragment"
    }
   },
   "source": [
    "A complex application can have many business logic."
   ]
  },
  {
   "cell_type": "markdown",
   "id": "a84580b7",
   "metadata": {
    "slideshow": {
     "slide_type": "subslide"
    }
   },
   "source": [
    "## Microservices"
   ]
  },
  {
   "cell_type": "markdown",
   "id": "ca06381d",
   "metadata": {
    "slideshow": {
     "slide_type": "fragment"
    }
   },
   "source": [
    "Break the monolith to enable horizontal scaling."
   ]
  },
  {
   "cell_type": "markdown",
   "id": "044e4e56",
   "metadata": {
    "slideshow": {
     "slide_type": "fragment"
    }
   },
   "source": [
    "\"Sales\" and \"Support\" can be separated and talk via an interface."
   ]
  },
  {
   "cell_type": "markdown",
   "id": "29a8edca",
   "metadata": {
    "slideshow": {
     "slide_type": "fragment"
    }
   },
   "source": [
    "\"Sales\" and \"Support\" can be developed by different teams."
   ]
  },
  {
   "cell_type": "markdown",
   "id": "b64ed2e3",
   "metadata": {
    "slideshow": {
     "slide_type": "fragment"
    }
   },
   "source": [
    "The application deployment is part of the application and should be easy. [The Twelve-Factor App](https://12factor.net/)."
   ]
  },
  {
   "cell_type": "markdown",
   "id": "a468daa8",
   "metadata": {
    "slideshow": {
     "slide_type": "subslide"
    }
   },
   "source": [
    "## API centricity"
   ]
  },
  {
   "cell_type": "markdown",
   "id": "3cfafbad",
   "metadata": {
    "slideshow": {
     "slide_type": "fragment"
    }
   },
   "source": [
    "Migration from in memory interfaces to Web / REST Application Programming Interface."
   ]
  },
  {
   "cell_type": "markdown",
   "id": "94f2c8ab",
   "metadata": {
    "slideshow": {
     "slide_type": "fragment"
    }
   },
   "source": [
    "Concept of \"Resource\"."
   ]
  },
  {
   "cell_type": "markdown",
   "id": "1c0f38af",
   "metadata": {
    "slideshow": {
     "slide_type": "fragment"
    }
   },
   "source": [
    "Concept of \"Single Source of Truth\"."
   ]
  },
  {
   "cell_type": "markdown",
   "id": "060978ff",
   "metadata": {
    "slideshow": {
     "slide_type": "slide"
    }
   },
   "source": [
    "# New ways of working"
   ]
  },
  {
   "cell_type": "markdown",
   "id": "fcac44b8",
   "metadata": {
    "slideshow": {
     "slide_type": "subslide"
    }
   },
   "source": [
    "## Agile"
   ]
  },
  {
   "cell_type": "markdown",
   "id": "067c8115",
   "metadata": {
    "slideshow": {
     "slide_type": "fragment"
    }
   },
   "source": [
    "Too much to say. I'll stop here. Just a mention for [Team Topologies](https://teamtopologies.com/) (2019).\n",
    "Build teams around projects and not in functional silos."
   ]
  },
  {
   "cell_type": "markdown",
   "id": "a51333ce",
   "metadata": {
    "slideshow": {
     "slide_type": "subslide"
    }
   },
   "source": [
    "## Devops Movement"
   ]
  },
  {
   "cell_type": "markdown",
   "id": "39a0f939",
   "metadata": {
    "slideshow": {
     "slide_type": "fragment"
    }
   },
   "source": [
    "Infrastructure as code."
   ]
  },
  {
   "cell_type": "markdown",
   "id": "4cdbebf4",
   "metadata": {
    "slideshow": {
     "slide_type": "fragment"
    }
   },
   "source": [
    "Automation."
   ]
  },
  {
   "cell_type": "markdown",
   "id": "e5d3fb5e",
   "metadata": {
    "slideshow": {
     "slide_type": "fragment"
    }
   },
   "source": [
    "[Infrastructure as a service (IaaS), Platform as a Service (PaaS), Software as a Service (SaaS)](https://www.redhat.com/en/topics/cloud-computing/iaas-vs-paas-vs-saas)"
   ]
  },
  {
   "cell_type": "markdown",
   "id": "2bbb2465",
   "metadata": {
    "slideshow": {
     "slide_type": "fragment"
    }
   },
   "source": [
    "Cloud Computing."
   ]
  },
  {
   "cell_type": "markdown",
   "id": "bbce2379",
   "metadata": {
    "slideshow": {
     "slide_type": "subslide"
    }
   },
   "source": [
    "## Site Reliability Engineering"
   ]
  },
  {
   "cell_type": "markdown",
   "id": "acc892b0",
   "metadata": {
    "slideshow": {
     "slide_type": "fragment"
    }
   },
   "source": [
    "Distributed Systems is hard. Many things can go wrong, see [Designing Data-Intensive Applications](https://www.oreilly.com/library/view/designing-data-intensive-applications/9781491903063/) chapter 8."
   ]
  },
  {
   "cell_type": "markdown",
   "id": "306888cb",
   "metadata": {
    "slideshow": {
     "slide_type": "fragment"
    }
   },
   "source": [
    "Distributed System are built upon cheap but unreliable components. "
   ]
  },
  {
   "cell_type": "markdown",
   "id": "44a23e71",
   "metadata": {
    "slideshow": {
     "slide_type": "fragment"
    }
   },
   "source": [
    "Write a platform where lessons learned while implementing distributed system become code that can help to operate and monitor a system."
   ]
  },
  {
   "cell_type": "markdown",
   "id": "06b58dae",
   "metadata": {
    "slideshow": {
     "slide_type": "fragment"
    }
   },
   "source": [
    "Possibility to plug-in or extend the resources under control."
   ]
  },
  {
   "cell_type": "markdown",
   "id": "58439aab",
   "metadata": {
    "slideshow": {
     "slide_type": "slide"
    }
   },
   "source": [
    "# What's under the hood?"
   ]
  },
  {
   "cell_type": "markdown",
   "id": "6b14ecf4",
   "metadata": {
    "slideshow": {
     "slide_type": "fragment"
    }
   },
   "source": [
    "What is the techie stuff that made Kubernetes even possible?"
   ]
  },
  {
   "cell_type": "markdown",
   "id": "2960226d",
   "metadata": {
    "slideshow": {
     "slide_type": "slide"
    }
   },
   "source": [
    "# It started with..."
   ]
  },
  {
   "cell_type": "markdown",
   "id": "50296622",
   "metadata": {
    "slideshow": {
     "slide_type": "fragment"
    }
   },
   "source": [
    "## Virtual machines"
   ]
  },
  {
   "cell_type": "markdown",
   "id": "9b781aa1",
   "metadata": {
    "slideshow": {
     "slide_type": "fragment"
    }
   },
   "source": [
    "* Hardware disaggregation\n",
    "* Slice and dice servers\n",
    "* HW becames software"
   ]
  },
  {
   "cell_type": "markdown",
   "id": "a920b8e4",
   "metadata": {
    "slideshow": {
     "slide_type": "slide"
    }
   },
   "source": [
    "# Docker"
   ]
  },
  {
   "cell_type": "markdown",
   "id": "4963186a",
   "metadata": {
    "slideshow": {
     "slide_type": "fragment"
    }
   },
   "source": [
    "## Containers"
   ]
  },
  {
   "cell_type": "markdown",
   "id": "b15cd229",
   "metadata": {
    "slideshow": {
     "slide_type": "fragment"
    }
   },
   "source": [
    "Operative systems capabilities to isolate Resources."
   ]
  },
  {
   "cell_type": "markdown",
   "id": "e292d464",
   "metadata": {
    "slideshow": {
     "slide_type": "slide"
    }
   },
   "source": [
    "# Are containers Linux?"
   ]
  },
  {
   "cell_type": "markdown",
   "id": "5b23aa46",
   "metadata": {
    "slideshow": {
     "slide_type": "fragment"
    }
   },
   "source": [
    "## Almost"
   ]
  },
  {
   "cell_type": "markdown",
   "id": "69001b41",
   "metadata": {
    "slideshow": {
     "slide_type": "fragment"
    }
   },
   "source": [
    "* [Just debunk them and look under the hood!](https://linuxera.org/containers-under-the-hood/)\n",
    "* Which Linux tecnologies make containers possible?"
   ]
  },
  {
   "cell_type": "markdown",
   "id": "19638748",
   "metadata": {
    "slideshow": {
     "slide_type": "slide"
    }
   },
   "source": [
    "## Linux Kernel stuff that enables containerization."
   ]
  },
  {
   "cell_type": "markdown",
   "id": "bbc7c3d8",
   "metadata": {
    "slideshow": {
     "slide_type": "fragment"
    }
   },
   "source": [
    "* Rootfs - Containers's file system."
   ]
  },
  {
   "cell_type": "markdown",
   "id": "03a9ca3a",
   "metadata": {
    "slideshow": {
     "slide_type": "fragment"
    }
   },
   "source": [
    "* chroot - change a root directory of a process, first step for isolation."
   ]
  },
  {
   "cell_type": "markdown",
   "id": "bc50cb5b",
   "metadata": {
    "slideshow": {
     "slide_type": "fragment"
    }
   },
   "source": [
    "* Linux namespace, or to be honest, namespaces!"
   ]
  },
  {
   "cell_type": "markdown",
   "id": "d7ddc531",
   "metadata": {
    "slideshow": {
     "slide_type": "slide"
    }
   },
   "source": [
    "# Once upon a time under /proc/PID_N/ns in the [Unshare](https://man7.org/linux/man-pages/man2/unshare.2.html) Land..."
   ]
  },
  {
   "cell_type": "markdown",
   "id": "6eb106be",
   "metadata": {
    "slideshow": {
     "slide_type": "subslide"
    }
   },
   "source": [
    "|Namespace | Isolates|\n",
    "|----------|---------|\n",
    "|Cgroup | Cgroup root directory|\n",
    "|IPC | System V IPC, POSIX message queues|\n",
    "|Network | Network devices, stacks, prots, etc.\n",
    "|Mount | Mount points|\n",
    "|PID |Process IDs|\n",
    "|Time | Boot and monotonic clocks|\n",
    "|User | User and Group IDs|\n",
    "|UTS | Hostname and NIS domain name|"
   ]
  },
  {
   "cell_type": "markdown",
   "id": "b96ee082",
   "metadata": {
    "slideshow": {
     "slide_type": "slide"
    }
   },
   "source": [
    "Docker automated all this and added a specific way to build images and handle process communication, but we can build our \"containers\" just with Linux."
   ]
  },
  {
   "cell_type": "markdown",
   "id": "cdaf2167",
   "metadata": {
    "slideshow": {
     "slide_type": "slide"
    }
   },
   "source": [
    "# Crossing fingers..."
   ]
  },
  {
   "cell_type": "markdown",
   "id": "c8586bed",
   "metadata": {
    "slideshow": {
     "slide_type": "fragment"
    }
   },
   "source": [
    "## Demotime! Containers under the hood."
   ]
  },
  {
   "cell_type": "markdown",
   "id": "971a0073",
   "metadata": {
    "slideshow": {
     "slide_type": "slide"
    }
   },
   "source": [
    "# Closing toughts\n",
    "\n",
    "Tools like Podman or Docker make running containers easy for everyone by abstracting the different Linux technologies used under the hood from the user."
   ]
  },
  {
   "cell_type": "markdown",
   "id": "4c0c9baa",
   "metadata": {
    "slideshow": {
     "slide_type": "slide"
    }
   },
   "source": [
    "Anyway these tools are doing more than what we showed in the previous demo.\n",
    "\n",
    "* They provide a truly isolated environments via Netowork Namespaces\n",
    "* They provide a way for building container images (Dockerfile)\n",
    "* They provide a specification to create, run and distribute images to the Open Container Initiative [OCI](https://github.com/opencontainers)\n",
    "* In particular Docker donated to OCI the reference implementation of the runtime-spec, *runc*"
   ]
  },
  {
   "cell_type": "markdown",
   "id": "ff4a6098",
   "metadata": {
    "slideshow": {
     "slide_type": "slide"
    }
   },
   "source": [
    "# How isolated Container can communicate?"
   ]
  },
  {
   "cell_type": "markdown",
   "id": "205b1e97",
   "metadata": {
    "slideshow": {
     "slide_type": "fragment"
    }
   },
   "source": [
    "## Enter Linux Kernel Namespaces, and Linux Kernel Networking."
   ]
  },
  {
   "cell_type": "markdown",
   "id": "1d33384d",
   "metadata": {
    "slideshow": {
     "slide_type": "slide"
    }
   },
   "source": [
    "Linux Networking capabilities:\n",
    "* Interfaces\n",
    "  * Physical\n",
    "  * Virtual (Using Network Namespaces)\n",
    "* Routing Tables\n",
    "* Firewall / IPTables (Netfilter command)\n",
    "* A bunch of networking commands to configure the network stack that use the \"net\" Namespaces. "
   ]
  },
  {
   "cell_type": "markdown",
   "id": "cf6d60c4",
   "metadata": {
    "slideshow": {
     "slide_type": "slide"
    }
   },
   "source": [
    "# Crossing fingers!"
   ]
  },
  {
   "cell_type": "markdown",
   "id": "8f61f615",
   "metadata": {
    "slideshow": {
     "slide_type": "fragment"
    }
   },
   "source": [
    "## Almost Demotime! Linux Networking "
   ]
  },
  {
   "cell_type": "markdown",
   "id": "729d475b",
   "metadata": {
    "slideshow": {
     "slide_type": "slide"
    }
   },
   "source": [
    "This time I will draw something with https://excalidraw.com/"
   ]
  },
  {
   "cell_type": "markdown",
   "id": "784921ce",
   "metadata": {
    "slideshow": {
     "slide_type": "subslide"
    }
   },
   "source": [
    "For reference look at these videos:\n",
    "* [KodeKloud](https://www.youtube.com/watch?v=j_UUnlVC2Ss)\n",
    "* [Cisco's net academy](https://developer.cisco.com/netdevops/live/#s02t13)"
   ]
  },
  {
   "cell_type": "markdown",
   "id": "61b72deb",
   "metadata": {
    "slideshow": {
     "slide_type": "slide"
    }
   },
   "source": [
    "# So, you said debunk Docker?"
   ]
  },
  {
   "cell_type": "markdown",
   "id": "ef2ee71e",
   "metadata": {
    "slideshow": {
     "slide_type": "slide"
    }
   },
   "source": [
    "## What if I tell you...?"
   ]
  },
  {
   "cell_type": "markdown",
   "id": "b7434327",
   "metadata": {
    "slideshow": {
     "slide_type": "subslide"
    }
   },
   "source": [
    "That our v-net-0 Linux Bridge it's docker0?"
   ]
  },
  {
   "cell_type": "markdown",
   "id": "f9df7b84",
   "metadata": {
    "slideshow": {
     "slide_type": "subslide"
    }
   },
   "source": [
    "* Docker uses a Linux Bridge: docker0 for host networking, by default!\n",
    "* It uses netns to truly isolate coontainers.\n",
    "* And uses cgroup for resorce limitation."
   ]
  },
  {
   "cell_type": "markdown",
   "id": "beb44c4a",
   "metadata": {
    "slideshow": {
     "slide_type": "slide"
    }
   },
   "source": [
    "Let us see another sketch on https://excalidraw.com/"
   ]
  },
  {
   "cell_type": "markdown",
   "id": "a6077f3d",
   "metadata": {
    "slideshow": {
     "slide_type": "slide"
    }
   },
   "source": [
    "For Container to Container communication, Docker can expose a service to the host, or to other containers by mapping a port. But we have to be explicit and tell to do so:\n",
    "\n",
    "```shell\n",
    "docker run --name nginx -p 8080:80 ngnix\n",
    "```\n",
    "\n",
    "The inside port 80 is exposed as 8080 to the host, and to other containers"
   ]
  },
  {
   "cell_type": "markdown",
   "id": "54ee72c0",
   "metadata": {
    "slideshow": {
     "slide_type": "slide"
    }
   },
   "source": [
    "Docker has other ways to handle the host network.\n",
    "* Host Network: no netns isolation, the container shares host's interface and IP.\n",
    "* Custom bridge Network\n",
    "* Container-defined network\n",
    "* No network."
   ]
  },
  {
   "cell_type": "markdown",
   "id": "237be080",
   "metadata": {
    "slideshow": {
     "slide_type": "slide"
    }
   },
   "source": [
    "# Custom bridge\n",
    "In custom bridge mode, more container can share the same netns, this means they can communicate with localhost:port, so you can have a web API app container and a database container on a custom bridge, and you can expose just the API port (security is enhanced).\n",
    "```shell\n",
    "docker network create mynetwork\n",
    "docker run -it --rm --name=container-a --network=mynetwork busybox /bin/sh\n",
    "docker run -it --rm --name=container-b --network=mynetwork busybox /bin/sh\n",
    "```"
   ]
  },
  {
   "cell_type": "markdown",
   "id": "3cdabc41",
   "metadata": {
    "slideshow": {
     "slide_type": "slide"
    }
   },
   "source": [
    "# Container defined Network\n",
    "This is a special case of custom networking where another container joins the network of another container, same here, the containers are on the same netns. **This is similar to how a Pod works on Kubernetes**.\n",
    "```shell\n",
    "docker run -it --rm --name=container-a busybox /bin/sh\n",
    "docker run -it --rm --name=container-b --network=container:container-a busybox /bin/sh\n",
    "```"
   ]
  },
  {
   "cell_type": "markdown",
   "id": "e56c0c33",
   "metadata": {
    "slideshow": {
     "slide_type": "slide"
    }
   },
   "source": [
    "# No network\n",
    "```shell\n",
    "docker run --net=none --name busybox busybox ip a\n",
    "```"
   ]
  },
  {
   "cell_type": "markdown",
   "id": "e4b411de",
   "metadata": {
    "slideshow": {
     "slide_type": "slide"
    }
   },
   "source": [
    "# Docker with multiple hosts"
   ]
  },
  {
   "cell_type": "markdown",
   "id": "d8872379",
   "metadata": {
    "slideshow": {
     "slide_type": "subslide"
    }
   },
   "source": [
    "Cross-host networking usually uses an overlay network, which builds a mesh between hosts and employs a large\n",
    "block of IP addresses within that mesh.\n",
    "**The overlay network functionality built into Docker is called Swarm**.\n",
    "When you connect a host to a swarm, the Docker engine on each host handles communication and routing between the hosts."
   ]
  },
  {
   "cell_type": "markdown",
   "id": "f0023b97",
   "metadata": {
    "slideshow": {
     "slide_type": "slide"
    }
   },
   "source": [
    "# So far so good, are going to tell us about Kubernetes?"
   ]
  },
  {
   "cell_type": "markdown",
   "id": "39363725",
   "metadata": {
    "slideshow": {
     "slide_type": "slide"
    }
   },
   "source": [
    "OK, I said Docker donated **runc** to the Open Container Initiative, and donated the runtime and image specification, then what happened?"
   ]
  },
  {
   "cell_type": "markdown",
   "id": "85d4479f",
   "metadata": {
    "slideshow": {
     "slide_type": "slide"
    }
   },
   "source": [
    "The truth is that Kubernetes is made of multiple projects!\n",
    "Under the Linux Foundation started a specification work that produced\n",
    "\n",
    "* The [Container Runtime Interface](https://kubernetes.io/docs/concepts/architecture/cri/#:~:text=The%20Container%20Runtime%20Interface%20(CRI,components%20kubelet%20and%20container%20runtime) that teels how containers are launched by kubelet (more below).\n",
    "* And the [Container Network Interface](https://github.com/containernetworking/cni), an api for networking plugins."
   ]
  },
  {
   "cell_type": "markdown",
   "id": "f8404a9e",
   "metadata": {
    "slideshow": {
     "slide_type": "slide"
    }
   },
   "source": [
    "Did I spoke about pluggability at the beginning of this thing? Here is the result, we have two CRI reference implementations:\n",
    "* [Containerd](https://github.com/containerd)\n",
    "* [CRI-O](https://cri-o.io/#:~:text=What%20is%20CRI%2DO%3F,as%20the%20runtime%20for%20kubernetes)"
   ]
  },
  {
   "cell_type": "markdown",
   "id": "67db1126",
   "metadata": {
    "slideshow": {
     "slide_type": "subslide"
    }
   },
   "source": [
    "Both of them call **runc** (or some sort of fork of it) to launch containers."
   ]
  },
  {
   "cell_type": "markdown",
   "id": "0793b178",
   "metadata": {
    "slideshow": {
     "slide_type": "slide"
    }
   },
   "source": [
    "But why the CNI? Because people realized that container networking implemented in: the Linux Kernel Network Namespaces, Docker, rkt, Mesos, Kubernetes and bla bla, everybody do the same things:\n",
    "* Create a Network Namespace\n",
    "* Create Bridge Network/Interface\n",
    "* Create VETH pairs (Pipe, Virtual Cable)\n",
    "* Attach veth to Namespace\n",
    "* Attach other veth to bridge\n",
    "* Assign IP addresses\n",
    "* Bring up interfaces\n",
    "* Enable NAT - IP Masquerade"
   ]
  },
  {
   "cell_type": "markdown",
   "id": "1e43a739",
   "metadata": {
    "slideshow": {
     "slide_type": "slide"
    }
   },
   "source": [
    "So they: Linux Foundation and Kubernetes, created this application interface, but as I told ya this enabled pluggabilty, and so we have tons of CNI compliant network plugins, using different network protocols in some cases."
   ]
  },
  {
   "cell_type": "markdown",
   "id": "89339cd3",
   "metadata": {
    "slideshow": {
     "slide_type": "slide"
    }
   },
   "source": [
    "## Ovelay Network, a dumb definition.\n",
    "A logical network built on top of a physical one. In practice is implemented by encapsulate an \"inner\" IP into an \"outer\" IP. A trivial overlay is IP-over-IP overlay. Real life examples: VxLAN, IPSec, VPN."
   ]
  },
  {
   "cell_type": "markdown",
   "id": "1fb5d398",
   "metadata": {
    "slideshow": {
     "slide_type": "slide"
    }
   },
   "source": [
    "* Flannel (Overlay layer 3 network using VxLAN or IPSec)\n",
    "* Calico (BGP, can fallback to overlay Network)\n",
    "* Multus (can expose many interfaces to a Container)\n",
    "* Cilium ([eBPF](https://ebpf.io/) the new gig in the Linux Kernel)"
   ]
  },
  {
   "cell_type": "markdown",
   "id": "84c1eef3",
   "metadata": {
    "slideshow": {
     "slide_type": "slide"
    }
   },
   "source": [
    "# Kubernetes architecture, an very light overview... hopefully"
   ]
  },
  {
   "cell_type": "markdown",
   "id": "49adf3a3",
   "metadata": {
    "slideshow": {
     "slide_type": "subslide"
    }
   },
   "source": [
    "Bret Fisher is better than me, we seat on Giants shoulders!\n",
    "* [Here it is](https://slides.kubernetesmastery.com/#74)!"
   ]
  },
  {
   "cell_type": "markdown",
   "id": "dee0665d",
   "metadata": {
    "slideshow": {
     "slide_type": "fragment"
    }
   },
   "source": [
    "* [A better sketch](https://slides.kubernetesmastery.com/#80)!"
   ]
  },
  {
   "cell_type": "markdown",
   "id": "5164d9d5",
   "metadata": {
    "slideshow": {
     "slide_type": "slide"
    }
   },
   "source": [
    "# What the advantages over Docker are? My 0.01."
   ]
  },
  {
   "cell_type": "markdown",
   "id": "ec69ea7f",
   "metadata": {
    "slideshow": {
     "slide_type": "subslide"
    }
   },
   "source": [
    "* Kubernets came out many lessons learned by peole who actually built a lot of distributed system.\n",
    "* It's made to build computer clusters and have a standard way to deal with them.\n",
    "* Has the \"single source of truth for the cluster\", the etcd database, you can recovery from crashes by doing backups.\n",
    "* Is API centric.\n",
    "* **It's declarative!**\n",
    "* It's extendable using the [Custom Resource Definition](https://kubernetes.io/docs/concepts/extend-kubernetes/api-extension/custom-resources/)\n",
    "* Even the loop is extendable, using the (Operator Pattern)[https://kubernetes.io/docs/concepts/extend-kubernetes/operator/], you can add custom maintenance automation scripts for your application."
   ]
  },
  {
   "cell_type": "markdown",
   "id": "2f5c4ffc",
   "metadata": {
    "slideshow": {
     "slide_type": "slide"
    }
   },
   "source": [
    "# What are the drawbacks? My second 0.01."
   ]
  },
  {
   "cell_type": "markdown",
   "id": "b2fa147a",
   "metadata": {
    "slideshow": {
     "slide_type": "subslide"
    }
   },
   "source": [
    "Since it's an aggregate of open source projects [it's a mess install it](https://www.youtube.com/watch?v=uUupRagM7m0&list=PL2We04F3Y_41jYdadX55fdJplDvgNGENo) (especially if somebody sabotage you). Sometime one of these projects break each other."
   ]
  },
  {
   "cell_type": "markdown",
   "id": "80e63b08",
   "metadata": {
    "slideshow": {
     "slide_type": "slide"
    }
   },
   "source": [
    "# OK... try to build a cluster... "
   ]
  },
  {
   "cell_type": "markdown",
   "id": "e5a4714c",
   "metadata": {
    "slideshow": {
     "slide_type": "subslide"
    }
   },
   "source": [
    "* [A Funny picture](https://slides.kubernetesmastery.com/#119)\n",
    "* [Some ways to do this](https://slides.kubernetesmastery.com/#102)\n",
    "* My loved preferred way [Just me and open source](https://github.com/justmeandopensource/kubernetes)\n",
    "* minikube"
   ]
  }
 ],
 "metadata": {
  "celltoolbar": "Slideshow",
  "kernelspec": {
   "display_name": "Python 3 (ipykernel)",
   "language": "python",
   "name": "python3"
  },
  "language_info": {
   "codemirror_mode": {
    "name": "ipython",
    "version": 3
   },
   "file_extension": ".py",
   "mimetype": "text/x-python",
   "name": "python",
   "nbconvert_exporter": "python",
   "pygments_lexer": "ipython3",
   "version": "3.8.12"
  },
  "rise": {
   "theme": "sky"
  }
 },
 "nbformat": 4,
 "nbformat_minor": 5
}
